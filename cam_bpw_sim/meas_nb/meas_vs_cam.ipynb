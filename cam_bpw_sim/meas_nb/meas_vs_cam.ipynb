{
 "cells": [
  {
   "cell_type": "code",
   "execution_count": null,
   "metadata": {},
   "outputs": [],
   "source": [
    "import bpwave\n",
    "import bpwave.visu\n",
    "import cam_bpw_sim as bps\n",
    "import datetime as dt\n",
    "import numpy as np\n",
    "import matplotlib as mpl\n",
    "import matplotlib.pyplot as plt\n",
    "import seaborn as sns\n",
    "import h5py\n",
    "import pathlib as pl\n",
    "import pandas as pd\n",
    "\n",
    "sns.set_style(\"whitegrid\")"
   ]
  },
  {
   "cell_type": "code",
   "execution_count": null,
   "metadata": {
    "tags": [
     "parameters"
    ]
   },
   "outputs": [],
   "source": [
    "par_meas_file = \"\"\n",
    "par_results_folder = \"\""
   ]
  },
  {
   "cell_type": "code",
   "execution_count": null,
   "metadata": {},
   "outputs": [],
   "source": [
    "if not par_meas_file or not par_results_folder:\n",
    "    raise ValueError\n",
    "meas_file = pl.Path(par_meas_file)\n",
    "results_folder = pl.Path(par_results_folder)\n",
    "results_folder.mkdir(exist_ok=True)"
   ]
  },
  {
   "cell_type": "code",
   "execution_count": null,
   "metadata": {},
   "outputs": [],
   "source": [
    "mpl.rcParams[\"figure.figsize\"] = (15, 5)"
   ]
  },
  {
   "cell_type": "code",
   "execution_count": null,
   "metadata": {},
   "outputs": [],
   "source": [
    "dt.datetime.now().isoformat(), bpwave.__version__, bps.__version__"
   ]
  },
  {
   "cell_type": "markdown",
   "metadata": {},
   "source": [
    "## Loading data"
   ]
  },
  {
   "cell_type": "markdown",
   "metadata": {},
   "source": [
    "The input is the selected measurement file that can be generated with `cam_bpw_sim.app.convert_measurement_log`.\n",
    "This file includes the measured time series and the configuration of the simulator environment as well."
   ]
  },
  {
   "cell_type": "code",
   "execution_count": null,
   "metadata": {},
   "outputs": [],
   "source": [
    "app_config = bps.app.read_config()"
   ]
  },
  {
   "cell_type": "code",
   "execution_count": null,
   "metadata": {},
   "outputs": [],
   "source": [
    "with h5py.File(meas_file) as f:\n",
    "    full_measured = bpwave.Signal.from_hdf(f[\"measured\"])\n",
    "    cam_signal_nom = bpwave.Signal.from_hdf(f[\"nominal\"])\n",
    "    cam_params = bps.cam.CamParams.from_hdf(f[\"cam_params\"])\n",
    "    cam_inst_params = bps.cam.CamInstance.from_hdf(f[\"cam_inst\"])\n",
    "    sim_params = bps.meas.SimulatorParams.from_hdf(f[\"simulator\"])\n",
    "    meas_params = bps.meas.MeasParams.from_hdf(f[\"meas_params\"])"
   ]
  },
  {
   "cell_type": "code",
   "execution_count": null,
   "metadata": {},
   "outputs": [],
   "source": [
    "cam_signal_nom.plot(legend=\"outside\")"
   ]
  },
  {
   "cell_type": "code",
   "execution_count": null,
   "metadata": {},
   "outputs": [],
   "source": [
    "full_measured.plot()"
   ]
  },
  {
   "cell_type": "code",
   "execution_count": null,
   "metadata": {},
   "outputs": [],
   "source": [
    "bps.val.plot_observed_values(full_measured, figsize=(15, 5))"
   ]
  },
  {
   "cell_type": "code",
   "execution_count": null,
   "metadata": {},
   "outputs": [],
   "source": [
    "ccycles_per_fcr = cam_signal_nom.onsets.size - 1\n",
    "inverted = cam_params.invert\n",
    "fs = full_measured.fs\n",
    "meas_desc = f\"{cam_params.name} {cam_inst_params.material} A={cam_params.amplitude}mm U={meas_params.u}V\""
   ]
  },
  {
   "cell_type": "markdown",
   "metadata": {},
   "source": [
    "## Data preparation"
   ]
  },
  {
   "cell_type": "code",
   "execution_count": null,
   "metadata": {},
   "outputs": [],
   "source": [
    "if inverted:\n",
    "    full_measured = full_measured.copy(y=full_measured.y.max() - full_measured.y)"
   ]
  },
  {
   "cell_type": "markdown",
   "metadata": {},
   "source": [
    "In protocols P3, P4 and P5, the motor is started with a cam position that corresponds to the saved nominal signal, so we don't need to synchronize."
   ]
  },
  {
   "cell_type": "code",
   "execution_count": null,
   "metadata": {},
   "outputs": [],
   "source": [
    "noise, measured = bps.val.split_combined_measurement(full_measured)"
   ]
  },
  {
   "cell_type": "markdown",
   "metadata": {},
   "source": [
    "Characteristic point detection needs lowpass-filtered signal."
   ]
  },
  {
   "cell_type": "code",
   "execution_count": null,
   "metadata": {},
   "outputs": [],
   "source": [
    "point_detector = bps.signal.ScipyFindPeaks()\n",
    "measured.chpoints = point_detector(bps.signal.denoise(measured)).chpoints"
   ]
  },
  {
   "cell_type": "code",
   "execution_count": null,
   "metadata": {},
   "outputs": [],
   "source": [
    "bps.val.plot_combined_measurement(full_measured, noise, measured)"
   ]
  },
  {
   "cell_type": "code",
   "execution_count": null,
   "metadata": {},
   "outputs": [],
   "source": [
    "plt.magnitude_spectrum(measured.y, Fs=measured.fs, scale=\"dB\")"
   ]
  },
  {
   "cell_type": "code",
   "execution_count": null,
   "metadata": {},
   "outputs": [],
   "source": [
    "t_wheel_turn = bps.val.t_cam_rotation(measured, ccycles_per_fcr)\n",
    "t_wheel_turn"
   ]
  },
  {
   "cell_type": "code",
   "execution_count": null,
   "metadata": {},
   "outputs": [],
   "source": [
    "amplitudes = np.array([cc.y.max() - cc.y.min() for cc in measured.iter_ccycles()])"
   ]
  },
  {
   "cell_type": "code",
   "execution_count": null,
   "metadata": {},
   "outputs": [],
   "source": [
    "preproc = bps.val.preproc_for_validation(\n",
    "    measured, cam_signal_nom, n_ccycles=ccycles_per_fcr, t_tol=0.1\n",
    ")"
   ]
  },
  {
   "cell_type": "code",
   "execution_count": null,
   "metadata": {},
   "outputs": [],
   "source": [
    "nominal_ccycles = [cc.shift_t() for cc in preproc.nominal_matched.ccycles[:]]"
   ]
  },
  {
   "cell_type": "code",
   "execution_count": null,
   "metadata": {},
   "outputs": [],
   "source": [
    "bps.val.plot_signal_slices(preproc.measured_long_bw_corr, figsize=(15, 6))"
   ]
  },
  {
   "cell_type": "code",
   "execution_count": null,
   "metadata": {},
   "outputs": [],
   "source": [
    "bps.val.plot_stacked_slices(\n",
    "    preproc.measured_long_bw_corr,\n",
    "    \"fcr\",\n",
    "    overlay=preproc.nominal_matched,\n",
    "    desc=\"Aligned full cam rotations without longterm baseline wander\",\n",
    "    onsets=False,\n",
    ")"
   ]
  },
  {
   "cell_type": "code",
   "execution_count": null,
   "metadata": {},
   "outputs": [],
   "source": [
    "bps.val.plot_signal_slices(preproc.measured_bw_corr, figsize=(15, 6))"
   ]
  },
  {
   "cell_type": "code",
   "execution_count": null,
   "metadata": {},
   "outputs": [],
   "source": [
    "bps.val.plot_stacked_slices(\n",
    "    preproc.measured_bw_corr,\n",
    "    \"fcr\",\n",
    "    overlay=preproc.nominal_matched,\n",
    "    desc=\"Aligned full cam rotations without baseline wander\",\n",
    "    onsets=False,\n",
    ")"
   ]
  },
  {
   "cell_type": "code",
   "execution_count": null,
   "metadata": {},
   "outputs": [],
   "source": [
    "chpoints = bps.val.build_chpoints_table(\n",
    "    preproc.measured_long_bw_corr, include_end_onset=True\n",
    ")"
   ]
  },
  {
   "cell_type": "markdown",
   "metadata": {},
   "source": [
    "### Onset statistics"
   ]
  },
  {
   "cell_type": "code",
   "execution_count": null,
   "metadata": {},
   "outputs": [],
   "source": [
    "sns.relplot(chpoints, x=\"fcr\", y=\"onset\", hue=\"ccycle\", marker=\"X\")"
   ]
  },
  {
   "cell_type": "markdown",
   "metadata": {},
   "source": [
    "Onset uncertainty of the measured signal (in terms of # of data points)"
   ]
  },
  {
   "cell_type": "code",
   "execution_count": null,
   "metadata": {},
   "outputs": [],
   "source": [
    "chpoints[chpoints[\"ccycle\"] < ccycles_per_fcr].drop(columns=\"fcr\").groupby(\n",
    "    [\"ccycle\"]\n",
    ").agg([\"mean\", \"std\"]).T"
   ]
  },
  {
   "cell_type": "markdown",
   "metadata": {},
   "source": [
    "## Cross comparison of full cam rotations"
   ]
  },
  {
   "cell_type": "markdown",
   "metadata": {},
   "source": [
    "### Waveforms for cross comparison"
   ]
  },
  {
   "cell_type": "code",
   "execution_count": null,
   "metadata": {},
   "outputs": [],
   "source": [
    "fcrs_long_bw_corr = bps.val.build_fcr_array(preproc.measured_long_bw_corr, \"fcr\")\n",
    "fcrs_bw_corr = bps.val.build_fcr_array(preproc.measured_bw_corr, \"fcr\")"
   ]
  },
  {
   "cell_type": "markdown",
   "metadata": {},
   "source": [
    "### Precision: RMSE (longterm BW removed)"
   ]
  },
  {
   "cell_type": "code",
   "execution_count": null,
   "metadata": {},
   "outputs": [],
   "source": [
    "rmse_rep_fcrs_long_bw_corr = bps.val.cross_compare(\n",
    "    fcrs_long_bw_corr,\n",
    "    fcrs_long_bw_corr,\n",
    "    bps.val.rmse_s,\n",
    ")"
   ]
  },
  {
   "cell_type": "code",
   "execution_count": null,
   "metadata": {},
   "outputs": [],
   "source": [
    "rmse_rep_fcrs_long_bw_corr.heatmaps()"
   ]
  },
  {
   "cell_type": "code",
   "execution_count": null,
   "metadata": {},
   "outputs": [],
   "source": [
    "rmse_rep_fcrs_long_bw_corr.boxplot(figsize=(10, 2))"
   ]
  },
  {
   "cell_type": "code",
   "execution_count": null,
   "metadata": {},
   "outputs": [],
   "source": [
    "rmse_rep_fcrs_long_bw_corr.examples(meas_desc, \"RMSE (longterm BW removed)\", good=\"min\")"
   ]
  },
  {
   "cell_type": "code",
   "execution_count": null,
   "metadata": {},
   "outputs": [],
   "source": [
    "pearson_rep_fcrs_long_bw_corr = bps.val.cross_compare(\n",
    "    fcrs_long_bw_corr,\n",
    "    fcrs_long_bw_corr,\n",
    "    bps.val.pearson_s,\n",
    ")"
   ]
  },
  {
   "cell_type": "code",
   "execution_count": null,
   "metadata": {},
   "outputs": [],
   "source": [
    "pearson_rep_fcrs_long_bw_corr.stats()"
   ]
  },
  {
   "cell_type": "markdown",
   "metadata": {},
   "source": [
    "### Accuracy: RMSE with nominal waveform (after longterm BW correction)"
   ]
  },
  {
   "cell_type": "code",
   "execution_count": null,
   "metadata": {},
   "outputs": [],
   "source": [
    "rmse_acc_fcrs_long_bw_corr = bps.val.cross_compare(\n",
    "    fcrs_long_bw_corr,\n",
    "    [[preproc.nominal_matched]],\n",
    "    bps.val.rmse_s,\n",
    ")"
   ]
  },
  {
   "cell_type": "code",
   "execution_count": null,
   "metadata": {},
   "outputs": [],
   "source": [
    "rmse_acc_fcrs_long_bw_corr.boxplot(figsize=(10, 2))"
   ]
  },
  {
   "cell_type": "code",
   "execution_count": null,
   "metadata": {},
   "outputs": [],
   "source": [
    "rmse_acc_fcrs_long_bw_corr.stats()"
   ]
  },
  {
   "cell_type": "code",
   "execution_count": null,
   "metadata": {},
   "outputs": [],
   "source": [
    "rmse_acc_fcrs_long_bw_corr.examples(\n",
    "    meas_desc, \"RMSE with nominal waveform (after longterm BW correction)\", good=\"min\"\n",
    ")"
   ]
  },
  {
   "cell_type": "markdown",
   "metadata": {},
   "source": [
    "### Accuracy: RMSE with nominal waveform (after full BW correction)"
   ]
  },
  {
   "cell_type": "code",
   "execution_count": null,
   "metadata": {},
   "outputs": [],
   "source": [
    "rmse_acc_fcrs_bw_corr = bps.val.cross_compare(\n",
    "    fcrs_bw_corr,\n",
    "    [[preproc.nominal_matched]],\n",
    "    bps.val.rmse_s,\n",
    ")"
   ]
  },
  {
   "cell_type": "code",
   "execution_count": null,
   "metadata": {},
   "outputs": [],
   "source": [
    "rmse_acc_fcrs_bw_corr.boxplot(figsize=(10, 2))"
   ]
  },
  {
   "cell_type": "code",
   "execution_count": null,
   "metadata": {},
   "outputs": [],
   "source": [
    "rmse_acc_fcrs_bw_corr.stats()"
   ]
  },
  {
   "cell_type": "code",
   "execution_count": null,
   "metadata": {},
   "outputs": [],
   "source": [
    "rmse_acc_fcrs_bw_corr.examples(\n",
    "    meas_desc, \"RMSE with nominal waveform (after full BW correction)\", good=\"min\"\n",
    ")"
   ]
  },
  {
   "cell_type": "markdown",
   "metadata": {},
   "source": [
    "### Accuracy: Person correlation with nominal waveform"
   ]
  },
  {
   "cell_type": "code",
   "execution_count": null,
   "metadata": {},
   "outputs": [],
   "source": [
    "person_acc_fcrs_long_bw_corr = bps.val.cross_compare(\n",
    "    fcrs_long_bw_corr,\n",
    "    [[preproc.nominal_matched]],\n",
    "    bps.val.pearson_s,\n",
    ")"
   ]
  },
  {
   "cell_type": "code",
   "execution_count": null,
   "metadata": {},
   "outputs": [],
   "source": [
    "person_acc_fcrs_long_bw_corr.stats()"
   ]
  },
  {
   "cell_type": "code",
   "execution_count": null,
   "metadata": {},
   "outputs": [],
   "source": [
    "person_acc_fcrs_bw_corr = bps.val.cross_compare(\n",
    "    fcrs_bw_corr,\n",
    "    [[preproc.nominal_matched]],\n",
    "    bps.val.pearson_s,\n",
    ")"
   ]
  },
  {
   "cell_type": "code",
   "execution_count": null,
   "metadata": {},
   "outputs": [],
   "source": [
    "person_acc_fcrs_bw_corr.stats()"
   ]
  },
  {
   "cell_type": "markdown",
   "metadata": {},
   "source": [
    "## Cross comparison of cardiac cycles"
   ]
  },
  {
   "cell_type": "code",
   "execution_count": null,
   "metadata": {},
   "outputs": [],
   "source": [
    "ccycles_long_bw_corr = bps.val.build_ccycle_matrix(\n",
    "    preproc.measured_long_bw_corr, \"cc_ref\", ccycles_per_fcr\n",
    ")\n",
    "ccycles_long_bw_corr.shape"
   ]
  },
  {
   "cell_type": "code",
   "execution_count": null,
   "metadata": {},
   "outputs": [],
   "source": [
    "bps.val.plot_stacked_ccycles(\n",
    "    preproc.measured_long_bw_corr,\n",
    "    \"cc_ref\",\n",
    "    n_ccycles=ccycles_per_fcr,\n",
    "    title=f\"{meas_desc}; Longterm BW removed\",\n",
    "    overlay=nominal_ccycles,\n",
    ")"
   ]
  },
  {
   "cell_type": "code",
   "execution_count": null,
   "metadata": {},
   "outputs": [],
   "source": [
    "ccycles_bw_corr_ext = bps.val.build_ccycle_matrix(\n",
    "    preproc.measured_bw_corr, \"cc_ref_ext\", ccycles_per_fcr\n",
    ")\n",
    "ccycles_bw_corr_ext.shape"
   ]
  },
  {
   "cell_type": "code",
   "execution_count": null,
   "metadata": {},
   "outputs": [],
   "source": [
    "ccycles_bw_corr = bps.val.build_ccycle_matrix(\n",
    "    preproc.measured_bw_corr, \"cc_ref\", ccycles_per_fcr\n",
    ")\n",
    "ccycles_bw_corr.shape"
   ]
  },
  {
   "cell_type": "code",
   "execution_count": null,
   "metadata": {},
   "outputs": [],
   "source": [
    "bps.val.plot_stacked_ccycles(\n",
    "    preproc.measured_bw_corr,\n",
    "    \"cc_ref\",\n",
    "    n_ccycles=ccycles_per_fcr,\n",
    "    title=f\"{meas_desc}; BW removed\",\n",
    "    overlay=nominal_ccycles,\n",
    ")"
   ]
  },
  {
   "cell_type": "markdown",
   "metadata": {},
   "source": [
    "### Rotation speed"
   ]
  },
  {
   "cell_type": "code",
   "execution_count": null,
   "metadata": {},
   "outputs": [],
   "source": [
    "t_len = pd.DataFrame(\n",
    "    np.vectorize(lambda s: s.t_onsets[-1] - s.t_onsets[0])(ccycles_bw_corr_ext)\n",
    ")\n",
    "t_len.shape"
   ]
  },
  {
   "cell_type": "code",
   "execution_count": null,
   "metadata": {},
   "outputs": [],
   "source": [
    "t_len.boxplot()"
   ]
  },
  {
   "cell_type": "markdown",
   "metadata": {},
   "source": [
    "### Precision: Cross-RMSE of cardiac cycles after longterm BW removal"
   ]
  },
  {
   "cell_type": "code",
   "execution_count": null,
   "metadata": {},
   "outputs": [],
   "source": [
    "rmse_rep_ccycles_long_bw_corr = bps.val.cross_compare(\n",
    "    ccycles_long_bw_corr,\n",
    "    ccycles_long_bw_corr,\n",
    "    bps.val.rmse_s,\n",
    ")"
   ]
  },
  {
   "cell_type": "code",
   "execution_count": null,
   "metadata": {},
   "outputs": [],
   "source": [
    "rmse_rep_ccycles_long_bw_corr.stats()"
   ]
  },
  {
   "cell_type": "code",
   "execution_count": null,
   "metadata": {},
   "outputs": [],
   "source": [
    "rmse_rep_ccycles_long_bw_corr.boxplot()"
   ]
  },
  {
   "cell_type": "code",
   "execution_count": null,
   "metadata": {},
   "outputs": [],
   "source": [
    "rmse_rep_ccycles_long_bw_corr.heatmaps(figsize=(15, 8))"
   ]
  },
  {
   "cell_type": "code",
   "execution_count": null,
   "metadata": {},
   "outputs": [],
   "source": [
    "rmse_rep_ccycles_long_bw_corr.examples(\n",
    "    meas_desc,\n",
    "    \"Cross-RMSE of cardiac cycles after longterm BW removal\",\n",
    "    good=\"min\",\n",
    "    figsize=(20, 10),\n",
    ")"
   ]
  },
  {
   "cell_type": "markdown",
   "metadata": {},
   "source": [
    "### Precision: Cross-Pearson correlation of cardiac cycles after longterm BW removal"
   ]
  },
  {
   "cell_type": "code",
   "execution_count": null,
   "metadata": {},
   "outputs": [],
   "source": [
    "pearson_rep_ccycles_long_bw_corr = bps.val.cross_compare(\n",
    "    ccycles_long_bw_corr,\n",
    "    ccycles_long_bw_corr,\n",
    "    bps.val.pearson_s,\n",
    ")"
   ]
  },
  {
   "cell_type": "code",
   "execution_count": null,
   "metadata": {},
   "outputs": [],
   "source": [
    "pearson_rep_ccycles_long_bw_corr.stats()"
   ]
  },
  {
   "cell_type": "code",
   "execution_count": null,
   "metadata": {},
   "outputs": [],
   "source": [
    "pearson_rep_ccycles_long_bw_corr.boxplot(r\"$\\rho$\")"
   ]
  },
  {
   "cell_type": "markdown",
   "metadata": {},
   "source": [
    "### Accuracy: Cardiac cycles after full baseline correction vs. nominal cardiac cycles: RMSE"
   ]
  },
  {
   "cell_type": "code",
   "execution_count": null,
   "metadata": {},
   "outputs": [],
   "source": [
    "rmse_acc_ccycles_bw_corr = bps.val.cross_compare(\n",
    "    ccycles_bw_corr,\n",
    "    [nominal_ccycles],\n",
    "    bps.val.rmse_s,\n",
    ")"
   ]
  },
  {
   "cell_type": "code",
   "execution_count": null,
   "metadata": {},
   "outputs": [],
   "source": [
    "rmse_acc_ccycles_bw_corr.stats()"
   ]
  },
  {
   "cell_type": "code",
   "execution_count": null,
   "metadata": {},
   "outputs": [],
   "source": [
    "rmse_acc_ccycles_bw_corr.boxplot()"
   ]
  },
  {
   "cell_type": "code",
   "execution_count": null,
   "metadata": {},
   "outputs": [],
   "source": [
    "rmse_acc_ccycles_bw_corr.examples(\n",
    "    meas_desc,\n",
    "    \"Cardiac cycles after full baseline correction vs. nominal cardiac cycles: RMSE\",\n",
    "    good=\"min\",\n",
    "    figsize=(20, 10),\n",
    ")"
   ]
  },
  {
   "cell_type": "markdown",
   "metadata": {},
   "source": [
    "### Accuracy: Cardiac cycles after full baseline correction vs. nominal cardiac cycles: Pearson"
   ]
  },
  {
   "cell_type": "code",
   "execution_count": null,
   "metadata": {},
   "outputs": [],
   "source": [
    "pearson_acc_ccycles_bw_corr = bps.val.cross_compare(\n",
    "    ccycles_bw_corr,\n",
    "    [nominal_ccycles],\n",
    "    bps.val.pearson_s,\n",
    ")"
   ]
  },
  {
   "cell_type": "code",
   "execution_count": null,
   "metadata": {},
   "outputs": [],
   "source": [
    "pearson_acc_ccycles_bw_corr.boxplot(r\"$\\rho$\")"
   ]
  },
  {
   "cell_type": "code",
   "execution_count": null,
   "metadata": {},
   "outputs": [],
   "source": [
    "pearson_acc_ccycles_bw_corr.stats()"
   ]
  },
  {
   "cell_type": "markdown",
   "metadata": {},
   "source": [
    "## Cam evaluation"
   ]
  },
  {
   "cell_type": "code",
   "execution_count": null,
   "metadata": {},
   "outputs": [],
   "source": [
    "fcrs_no_wander_ys = [s.y for s in fcrs_bw_corr.squeeze()]\n",
    "min_turn_len = min(map(len, fcrs_no_wander_ys))\n",
    "fcrs_no_wander_ys = np.array([y[:min_turn_len] for y in fcrs_no_wander_ys])\n",
    "averaged_fcr = np.mean(fcrs_no_wander_ys, axis=0)"
   ]
  },
  {
   "cell_type": "code",
   "execution_count": null,
   "metadata": {},
   "outputs": [],
   "source": [
    "bps.val.plot_cam_vs_measured(preproc.nominal_matched, averaged_fcr, cam_params)"
   ]
  },
  {
   "cell_type": "code",
   "execution_count": null,
   "metadata": {},
   "outputs": [],
   "source": [
    "all_acc_fcrs = pd.concat(\n",
    "    [\n",
    "        fcr_comp.data[[\"fcr_m\", 0]].set_index([\"fcr_m\"])\n",
    "        for fcr_comp in [\n",
    "            rmse_acc_fcrs_long_bw_corr,\n",
    "            person_acc_fcrs_long_bw_corr,\n",
    "            rmse_acc_fcrs_bw_corr,\n",
    "            person_acc_fcrs_bw_corr,\n",
    "        ]\n",
    "    ],\n",
    "    axis=1,\n",
    ")\n",
    "all_acc_fcrs.columns = [\n",
    "    \"rmse_acc_fcrs_long_bw_corr\",\n",
    "    \"person_acc_fcrs_long_bw_corr\",\n",
    "    \"rmse_acc_fcrs_bw_corr\",\n",
    "    \"person_acc_fcrs_bw_corr\",\n",
    "]"
   ]
  },
  {
   "cell_type": "code",
   "execution_count": null,
   "metadata": {},
   "outputs": [],
   "source": [
    "all_rep_fcrs = pd.concat(\n",
    "    [\n",
    "        fcr_comp.data.set_index([\"fcr_m\", \"fcr_r\"])\n",
    "        for fcr_comp in [\n",
    "            rmse_rep_fcrs_long_bw_corr,\n",
    "            pearson_rep_fcrs_long_bw_corr,\n",
    "        ]\n",
    "    ],\n",
    "    axis=1,\n",
    ")\n",
    "all_rep_fcrs.columns = [\n",
    "    \"rmse_rep_fcrs_long_bw_corr\",\n",
    "    \"pearson_rep_fcrs_long_bw_corr\",\n",
    "]"
   ]
  },
  {
   "cell_type": "code",
   "execution_count": null,
   "metadata": {},
   "outputs": [],
   "source": [
    "with h5py.File(\n",
    "    results_folder / meas_file.with_suffix(\"\").with_suffix(\".r.hdf5\").name, \"w\"\n",
    ") as f:\n",
    "    preproc.nominal_matched.to_hdf(f.create_group(\"nominal_matched\"))\n",
    "    preproc.measured_long_bw_corr.to_hdf(f.create_group(\"measured_long_bw_corr\"))\n",
    "    preproc.measured_bw_corr.to_hdf(f.create_group(\"measured_bw_corr\"))\n",
    "    cam_params.to_hdf(f.create_group(\"cam_params\"))\n",
    "    cam_inst_params.to_hdf(f.create_group(\"cam_inst\"))\n",
    "    sim_params.to_hdf(f.create_group(\"simulator\"))\n",
    "    meas_params.to_hdf(f.create_group(\"meas_params\"))\n",
    "\n",
    "    rmse_acc_fcrs_long_bw_corr.stats_to_hdf(f, \"rmse_acc_fcrs_long_bw_corr\")\n",
    "    person_acc_fcrs_long_bw_corr.stats_to_hdf(f, \"person_acc_fcrs_long_bw_corr\")\n",
    "    rmse_acc_fcrs_bw_corr.stats_to_hdf(f, \"rmse_acc_fcrs_bw_corr\")\n",
    "    person_acc_fcrs_bw_corr.stats_to_hdf(f, \"person_acc_fcrs_bw_corr\")\n",
    "    rmse_acc_ccycles_bw_corr.stats_to_hdf(f, \"rmse_acc_ccycles_bw_corr\")\n",
    "    pearson_acc_ccycles_bw_corr.stats_to_hdf(f, \"pearson_acc_ccycles_bw_corr\")\n",
    "    rmse_rep_fcrs_long_bw_corr.stats_to_hdf(f, \"rmse_rep_fcrs_long_bw_corr\")\n",
    "    pearson_rep_fcrs_long_bw_corr.stats_to_hdf(f, \"perason_rep_fcrs_long_bw_corr\")\n",
    "    rmse_rep_ccycles_long_bw_corr.stats_to_hdf(f, \"rmse_rep_ccycles_long_bw_corr\")\n",
    "    pearson_rep_ccycles_long_bw_corr.stats_to_hdf(f, \"pearson_rep_ccycles_long_bw_corr\")\n",
    "\n",
    "    ds_acc_fcrs = f.create_dataset(\n",
    "        \"all_acc_fcrs\", data=(noidx := all_acc_fcrs.reset_index()).to_numpy()\n",
    "    )\n",
    "    ds_acc_fcrs.attrs[\"columns\"] = noidx.columns.to_numpy()\n",
    "\n",
    "    ds_rep_fcrs = f.create_dataset(\n",
    "        \"all_rep_fcrs\", data=(noidx := all_rep_fcrs.reset_index()).to_numpy()\n",
    "    )\n",
    "    ds_rep_fcrs.attrs[\"columns\"] = noidx.columns.to_numpy()"
   ]
  },
  {
   "cell_type": "code",
   "execution_count": null,
   "metadata": {},
   "outputs": [],
   "source": []
  }
 ],
 "metadata": {
  "kernelspec": {
   "display_name": "bpsim-sw-public",
   "language": "python",
   "name": "bpsim-sw-public"
  },
  "language_info": {
   "codemirror_mode": {
    "name": "ipython",
    "version": 3
   },
   "file_extension": ".py",
   "mimetype": "text/x-python",
   "name": "python",
   "nbconvert_exporter": "python",
   "pygments_lexer": "ipython3",
   "version": "3.10.12"
  }
 },
 "nbformat": 4,
 "nbformat_minor": 2
}
